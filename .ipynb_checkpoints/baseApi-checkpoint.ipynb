{
 "cells": [
  {
   "cell_type": "code",
   "execution_count": null,
   "metadata": {},
   "outputs": [],
   "source": [
    "import pymysql  \n",
    "\n",
    "\n",
    "def execute(s):\n",
    "    con = pymysql.connect('localhost', 'npadmin',  'nppass', 'npeasy')\n",
    "    cur = con.cursor()\n",
    "    cur.execute(s)\n",
    "    rows = cur.fetchall()\n",
    "    con.close()\n",
    "    return rows\n",
    "    \n",
    "    \n",
    "def checkToken(token):\n",
    "    if len(token) == 16:\n",
    "        rows = execute(\"select * from tokens\")\n",
    "        tokens = [i[2] for i in rows]\n",
    "        if token in tokens:\n",
    "            return rows\n",
    "    else:\n",
    "        return None"
   ]
  }
 ],
 "metadata": {
  "kernelspec": {
   "display_name": "Python 3",
   "language": "python",
   "name": "python3"
  },
  "language_info": {
   "codemirror_mode": {
    "name": "ipython",
    "version": 3
   },
   "file_extension": ".py",
   "mimetype": "text/x-python",
   "name": "python",
   "nbconvert_exporter": "python",
   "pygments_lexer": "ipython3",
   "version": "3.6.3"
  }
 },
 "nbformat": 4,
 "nbformat_minor": 4
}
