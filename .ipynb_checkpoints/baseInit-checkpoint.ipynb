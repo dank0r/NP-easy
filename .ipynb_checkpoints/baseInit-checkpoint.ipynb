{
 "cells": [
  {
   "cell_type": "code",
   "execution_count": null,
   "metadata": {},
   "outputs": [],
   "source": [
    "import pymysql  \n",
    "con = pymysql.connect('localhost', 'npadmin',  'nppass', 'npeasy')\n",
    "\n",
    "cur = con.cursor()\n",
    "\n",
    "def exc(s):\n",
    "    cur.execute(s)\n",
    "    rows = cur.fetchall()\n",
    "    for i in rows:\n",
    "        print(i)\n",
    "    print(':::::executed:::::')\n",
    "    print(s)\n",
    "\n",
    "    \n",
    "\n",
    "##################################################### events(title, previewURL, briefDescription, description, teams, deadline)\n",
    "exc(\"\"\"drop table if exists events;\"\"\")\n",
    "exc(\"\"\"create table events (id int(11) auto_increment, title varchar(40), previewURL varchar(250), briefDescription varchar(300), description varchar(500), teams int(11), deadline varchar(30), constraint event_pk primary key (id)) CHARSET=utf8;\"\"\")\n",
    "\n",
    "exc(\"\"\"insert into events(title, previewURL, briefDescription, description, teams, deadline) values(\"Travelling Salesman Person\", \"some_url\", \"Определить кратчайший путь, проходящий через все вершины графа\", \"Long description\", 3, \"07.07.2020 00:00\");\"\"\")\n",
    "exc(\"\"\"insert into events(title, previewURL, briefDescription, description, teams, deadline) values(\"Travelling Salesman Person\", \"some_url\", \"Определить кратчайший путь, проходящий через все вершины графа\", \"Long description\", 3, \"07.07.2020 00:00\");\"\"\")\n",
    "\n",
    "\n",
    "\n",
    "##################################################### users (username, email, passHash, avatarURL)\n",
    "exc(\"\"\"drop table if exists users;\"\"\")\n",
    "exc(\"\"\"create table users (id int(11) auto_increment, username varchar(40), email varchar(40), passHash varchar(300), avatarURL varchar(500), constraint user_pk primary key (id)) CHARSET=utf8;\"\"\")\n",
    "\n",
    "exc(\"\"\"insert into users(username, email, passHash, avatarURL) values(\"mig\", \"h4ckit@mail.ru\", \"202cb962ac59075b964b07152d234b70\", \"\");\"\"\")\n",
    "\n",
    "\n",
    "##################################################### tokens (username, token)\n",
    "exc(\"\"\"drop table if exists tokens;\"\"\")\n",
    "exc(\"\"\"create table tokens (id int(11) auto_increment, username varchar(40), token varchar(32), constraint token_pk primary key (id)) CHARSET=utf8;\"\"\")\n",
    "\n",
    "##################################################### solutions (username, token)\n",
    "exc(\"\"\"drop table if exists tokens;\"\"\")\n",
    "exc(\"\"\"create table tokens (id int(11) auto_increment, username varchar(40), token varchar(32), constraint token_pk primary key (id)) CHARSET=utf8;\"\"\")\n",
    "\n",
    "\n",
    "##################################################### end\n",
    "exc(\"\"\"select * from events;\"\"\")\n",
    "exc(\"\"\"select * from users;\"\"\")\n",
    "exc(\"\"\"commit;\"\"\")\n"
   ]
  }
 ],
 "metadata": {
  "kernelspec": {
   "display_name": "Python 3",
   "language": "python",
   "name": "python3"
  },
  "language_info": {
   "codemirror_mode": {
    "name": "ipython",
    "version": 3
   },
   "file_extension": ".py",
   "mimetype": "text/x-python",
   "name": "python",
   "nbconvert_exporter": "python",
   "pygments_lexer": "ipython3",
   "version": "3.6.3"
  }
 },
 "nbformat": 4,
 "nbformat_minor": 4
}
